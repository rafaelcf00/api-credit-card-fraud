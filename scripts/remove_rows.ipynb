{
 "cells": [
  {
   "cell_type": "code",
   "execution_count": 7,
   "id": "86129fc1",
   "metadata": {},
   "outputs": [
    {
     "name": "stdout",
     "output_type": "stream",
     "text": [
      "Linhas aleatórias removidas\n"
     ]
    }
   ],
   "source": [
    "import pandas as pd\n",
    "import random\n",
    "\n",
    "def remove_rows(file_csv, new_file, rows):\n",
    "    df = pd.read_csv(file_csv)\n",
    "    df_fraude_0 = df[df['is_fraud'] == 0]\n",
    "    \n",
    "    total_linhas_remover = min(rows, len(df_fraude_0))\n",
    "    \n",
    "    indices_remover = random.sample(df_fraude_0.index.tolist(), rows)\n",
    "    df_fil = df.drop(indices_remover)\n",
    "    \n",
    "    df_fil.to_csv(new_file, index=False)\n",
    "\n",
    "file_csv = 'fraud_dataset.csv'\n",
    "new_file = 'new_fraud_dataset.csv'\n",
    "rows = 270000\n",
    "\n",
    "remove_rows(file_csv, new_file, rows)\n",
    "print('Linhas aleatórias removidas')\n"
   ]
  },
  {
   "cell_type": "code",
   "execution_count": null,
   "id": "0e70de93",
   "metadata": {},
   "outputs": [],
   "source": []
  }
 ],
 "metadata": {
  "kernelspec": {
   "display_name": "Python 3 (ipykernel)",
   "language": "python",
   "name": "python3"
  },
  "language_info": {
   "codemirror_mode": {
    "name": "ipython",
    "version": 3
   },
   "file_extension": ".py",
   "mimetype": "text/x-python",
   "name": "python",
   "nbconvert_exporter": "python",
   "pygments_lexer": "ipython3",
   "version": "3.9.13"
  }
 },
 "nbformat": 4,
 "nbformat_minor": 5
}
